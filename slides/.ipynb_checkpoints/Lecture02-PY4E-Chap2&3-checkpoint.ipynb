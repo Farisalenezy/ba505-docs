{
 "cells": [
  {
   "cell_type": "markdown",
   "metadata": {
    "slideshow": {
     "slide_type": "slide"
    }
   },
   "source": [
    "![DSB Logo](img/Dolan.jpg)\n",
    "# Python Essentials: Variables, Expressions, and Statements\n",
    "## PY4E Chapter 2\n",
    "### What you must know about Python"
   ]
  },
  {
   "cell_type": "markdown",
   "metadata": {
    "slideshow": {
     "slide_type": "slide"
    }
   },
   "source": [
    "# Learning Objectives\n",
    "\n",
    "## Theory / Be able to explain ...\n",
    "- Basic Python syntax and structure, including statements, variables, expressions, operators, and functions\n",
    "- How variables and functions allow us to use and reuse data and processing\n",
    "- The debugging process and common types of bugs\n",
    "- How Python conditional statements work\n",
    "\n",
    "## Skills / Know how to  ...\n",
    "- Determine the type of a data value\n",
    "- Use variables to store, retrieve, and update values\n",
    "- Convert from one data type to another\n",
    "- Evaluate basic arithmetic and string expressions\n",
    "- Use an| `if` statement to iterate over a list of values  \n",
    "\n"
   ]
  },
  {
   "cell_type": "markdown",
   "metadata": {
    "slideshow": {
     "slide_type": "slide"
    }
   },
   "source": [
    "# Values and Types\n",
    "\n",
    "- __Value__ is the basic things a program works with\n",
    "    - Can be a letter or a number, or very complex things (e.g. a `Pandas` dataframe)\n",
    "    - So far we have seen values like `1`, `2`, or `'Hello world!'`\n",
    "- Values can be of different __types__\n",
    "    - `1` or `2` is an integer\n",
    "    - `'Hello world!'` is a string: meaning a string of __letters__ (__NOT__ words)\n",
    "        - Python compiler identifies strings using `''` \n",
    "- A lot of Python statements work with different data types"
   ]
  },
  {
   "cell_type": "code",
   "execution_count": null,
   "metadata": {
    "slideshow": {
     "slide_type": "fragment"
    }
   },
   "outputs": [],
   "source": [
    "# display `4`\n",
    "print(4)"
   ]
  },
  {
   "cell_type": "code",
   "execution_count": null,
   "metadata": {
    "slideshow": {
     "slide_type": "fragment"
    }
   },
   "outputs": [],
   "source": [
    "# display `This is a string`\n",
    "print('This is a string')"
   ]
  },
  {
   "cell_type": "markdown",
   "metadata": {},
   "source": [
    "# Values and Types\n",
    "\n",
    "- Values and types are independent\n",
    "    - you can have an integer of `4` and a string of `'4'`\n",
    "    - But they have different meanings\n",
    "- A lot of Python statements only work on certain data types\n",
    "- If you are not sure about the data type, you can use the `type()` function to tell you"
   ]
  },
  {
   "cell_type": "code",
   "execution_count": null,
   "metadata": {
    "slideshow": {
     "slide_type": "fragment"
    }
   },
   "outputs": [],
   "source": [
    "# display `int`\n",
    "type(4)"
   ]
  },
  {
   "cell_type": "code",
   "execution_count": null,
   "metadata": {
    "slideshow": {
     "slide_type": "fragment"
    }
   },
   "outputs": [],
   "source": [
    "# display `str`\n",
    "type('4')"
   ]
  },
  {
   "cell_type": "code",
   "execution_count": null,
   "metadata": {
    "slideshow": {
     "slide_type": "fragment"
    }
   },
   "outputs": [],
   "source": [
    "# display `float`\n",
    "type(4.0)"
   ]
  },
  {
   "cell_type": "markdown",
   "metadata": {
    "slideshow": {
     "slide_type": "slide"
    }
   },
   "source": [
    "# Values and Types\n",
    "\n",
    "- If needed, you can convert certain value between data types\n",
    "    - just use data types as function for conversion\n",
    "- The `print()` statement works most of the time displaying your input\n",
    "    - But sometimes it does not do that\n",
    "    - For instance, a certain large number of `1,000,000`\n",
    "    - This would create a __semantic error__ (review it at Chapter 1 slides)\n",
    "        - The statement does not produce an error, but it does not act properly"
   ]
  },
  {
   "cell_type": "code",
   "execution_count": null,
   "metadata": {
    "slideshow": {
     "slide_type": "fragment"
    }
   },
   "outputs": [],
   "source": [
    "# display `int`\n",
    "type(int('4'))"
   ]
  },
  {
   "cell_type": "code",
   "execution_count": null,
   "metadata": {
    "slideshow": {
     "slide_type": "fragment"
    }
   },
   "outputs": [],
   "source": [
    "# display `str`\n",
    "type(str(4))"
   ]
  },
  {
   "cell_type": "code",
   "execution_count": null,
   "metadata": {
    "slideshow": {
     "slide_type": "fragment"
    }
   },
   "outputs": [],
   "source": [
    "# display `1 0 0`\n",
    "print(1,000,000)"
   ]
  },
  {
   "cell_type": "markdown",
   "metadata": {
    "slideshow": {
     "slide_type": "slide"
    }
   },
   "source": [
    "# Variables\n",
    "\n",
    "- Sometimes we need to reuse values in later parts of the program\n",
    "- We need to provide a symbolic name to the value\n",
    "    - we call that a __variable__\n",
    "- The statement provide a symbolic name to the value is called an __assignment statement__\n",
    "    - _assignment statement_ should be before the statements using the variables\n",
    "    - The _symbolic name_ should be meaningful"
   ]
  },
  {
   "cell_type": "code",
   "execution_count": null,
   "metadata": {
    "slideshow": {
     "slide_type": "fragment"
    }
   },
   "outputs": [],
   "source": [
    "message = 'And now for something completely different'\n",
    "n = 17\n",
    "pi = 3.1415926535897931"
   ]
  },
  {
   "cell_type": "code",
   "execution_count": null,
   "metadata": {
    "slideshow": {
     "slide_type": "fragment"
    }
   },
   "outputs": [],
   "source": [
    "print(n)"
   ]
  },
  {
   "cell_type": "code",
   "execution_count": null,
   "metadata": {
    "slideshow": {
     "slide_type": "fragment"
    }
   },
   "outputs": [],
   "source": [
    "print(pi * 2)"
   ]
  },
  {
   "cell_type": "code",
   "execution_count": null,
   "metadata": {
    "slideshow": {
     "slide_type": "fragment"
    }
   },
   "outputs": [],
   "source": [
    "type(message)"
   ]
  },
  {
   "cell_type": "code",
   "execution_count": null,
   "metadata": {
    "slideshow": {
     "slide_type": "fragment"
    }
   },
   "outputs": [],
   "source": [
    "type(n)"
   ]
  },
  {
   "cell_type": "code",
   "execution_count": null,
   "metadata": {
    "slideshow": {
     "slide_type": "fragment"
    }
   },
   "outputs": [],
   "source": [
    "type(pi)"
   ]
  },
  {
   "cell_type": "markdown",
   "metadata": {
    "slideshow": {
     "slide_type": "slide"
    }
   },
   "source": [
    "# Your Turn Here\n",
    "\n",
    "Can you think of certain scenario where we have to use variables, rather than loose values?"
   ]
  },
  {
   "cell_type": "markdown",
   "metadata": {
    "slideshow": {
     "slide_type": "slide"
    }
   },
   "source": [
    "# Variable names and Keywords\n",
    "\n",
    "- You know that variables need to have a symbolic name\n",
    "    - actually you can choose whatever name for a certain value\n",
    "    - but you should always choose the name that is __meaningful__\n",
    "    \n",
    "- Rules/Suggestions for variable names:\n",
    "    - variable names can be of arbitrary length\n",
    "    - variable can contain _numbers_ and _letters_, but can only start with _letters_\n",
    "    - You can start a variable name with a capital letter, but it is good practice to start with an undercase letter\n",
    "    - spaces are not allowed, but underscore (`_`) is allowed to connect two words (e.g. `my_words`)\n",
    "        - underscore has specific meaning in some packages, be careful when use them as the start of the variable name\n",
    "\n",
    "- If you use an illegal name, you will get a __syntax error__"
   ]
  },
  {
   "cell_type": "code",
   "execution_count": null,
   "metadata": {
    "slideshow": {
     "slide_type": "fragment"
    }
   },
   "outputs": [],
   "source": [
    "76trombones = 'big parade'"
   ]
  },
  {
   "cell_type": "code",
   "execution_count": null,
   "metadata": {
    "slideshow": {
     "slide_type": "fragment"
    }
   },
   "outputs": [],
   "source": [
    "more@ = 1000000"
   ]
  },
  {
   "cell_type": "code",
   "execution_count": null,
   "metadata": {
    "slideshow": {
     "slide_type": "fragment"
    }
   },
   "outputs": [],
   "source": [
    "class = 'Advanced Theoretical Zymurgy'"
   ]
  },
  {
   "cell_type": "markdown",
   "metadata": {
    "slideshow": {
     "slide_type": "slide"
    }
   },
   "source": [
    "# What happened above?\n",
    "\n",
    "- `76trombones` is illegal because it begins with a number. \n",
    "- `more@` is illegal because it contains an illegal character, `@`. \n",
    "- But what’s wrong with `class`?\n",
    "    - It turns out that class is one of Python’s keywords. \n",
    "    - You don't have to remember these keywords, Juoyter will help you color code them as green"
   ]
  },
  {
   "cell_type": "markdown",
   "metadata": {
    "slideshow": {
     "slide_type": "slide"
    }
   },
   "source": [
    "# Statements\n",
    "\n",
    "- A _statement_ is a unit of code that the Python interpreter can execute.\n",
    "    - we already saw different types of statement: e.g. `print()`, and assignment\n",
    "- Normally, the Python complier executes the statements sequentially (top-down)\n",
    "    - __Note__ that not all statements provide output"
   ]
  },
  {
   "cell_type": "code",
   "execution_count": null,
   "metadata": {
    "slideshow": {
     "slide_type": "subslide"
    }
   },
   "outputs": [],
   "source": [
    "print(1)  # display `1`\n",
    "x=2  # no output\n",
    "print(x) #display `2`"
   ]
  },
  {
   "cell_type": "markdown",
   "metadata": {
    "slideshow": {
     "slide_type": "slide"
    }
   },
   "source": [
    "# Operators and Operands\n",
    "\n",
    "- _Operators_ are special symbols that represent computations\n",
    "    - like addition and multiplication\n",
    "    \n",
    "- The values the operator is applied to are called _operands_.\n",
    "\n",
    "```\n",
    "Operand Operator Operand\n",
    "3       *        2\n",
    "```"
   ]
  },
  {
   "cell_type": "code",
   "execution_count": null,
   "metadata": {
    "slideshow": {
     "slide_type": "subslide"
    }
   },
   "outputs": [],
   "source": [
    "# Python 3 division produces floating results\n",
    "minute = 59\n",
    "minute/60"
   ]
  },
  {
   "cell_type": "code",
   "execution_count": null,
   "metadata": {
    "slideshow": {
     "slide_type": "subslide"
    }
   },
   "outputs": [],
   "source": [
    "# Python 2 division divide two integers to an integer\n",
    "# In Python 3 we use floor division (//)\n",
    "minute//60"
   ]
  },
  {
   "cell_type": "markdown",
   "metadata": {
    "slideshow": {
     "slide_type": "slide"
    }
   },
   "source": [
    "# Expressions\n",
    "\n",
    "- An _expression_ is a combination of _values_, _variables_, and _operators_\n",
    "    - A value all by itself is considered an expression, and so is a variable\n",
    "    - So follow are all legal expressions\n",
    "    \n",
    "```python\n",
    "17\n",
    "x\n",
    "x + 17\n",
    "```\n",
    "- __Note__ the difference between statements and expressions\n",
    "    - Statements are executed - if any variable is involved then the results are stored\n",
    "    - expressions are evaluated by compiler, and output the results"
   ]
  },
  {
   "cell_type": "markdown",
   "metadata": {
    "slideshow": {
     "slide_type": "slide"
    }
   },
   "source": [
    "# Order of Operators\n",
    "\n",
    "When more than one operator appears in an expression, the order of evaluation depends on the _rules of precedence_ (PEMDAS).\n",
    "\n",
    "- _Parentheses_ have the highest precedence and can be used to force an expres- sion to evaluate in the order you want.\n",
    "- _Exponentiation_ has the next highest precedence\n",
    "- _Multiplication_ and _Division_ have the same precedence, which is higher than Addition and Subtraction, which also have the same precedence.\n",
    "- Operators with the same precedence are evaluated from _left_ to _right_. \n",
    "\n",
    "Refer to the textbook for examples of PEMDAS."
   ]
  },
  {
   "cell_type": "markdown",
   "metadata": {
    "slideshow": {
     "slide_type": "slide"
    }
   },
   "source": [
    "# Special Operators\n",
    "\n",
    "- Modulus operator (`%`)\n",
    "    - The modulus operator works on integers and yields the remainder when the first operand is divided by the second.\n",
    "```python\n",
    "8 % 3 # = 2\n",
    "```\n",
    "\n",
    "    - if `x % y` is zero, then `x` is divisible by `y`.\n"
   ]
  },
  {
   "cell_type": "markdown",
   "metadata": {
    "slideshow": {
     "slide_type": "slide"
    }
   },
   "source": [
    "# String operations\n",
    "- The `+` operator works with strings, but it is not addition in the mathematical sense\\\n",
    "    - Instead it performs _concatenation_\n",
    "    - which means joining the strings by linking them end to end\n",
    "    \n",
    "- The `*` operator also works with strings by multiplying the content of a string by an integer.\n",
    "    \n",
    "For example:"
   ]
  },
  {
   "cell_type": "code",
   "execution_count": null,
   "metadata": {
    "slideshow": {
     "slide_type": "subslide"
    }
   },
   "outputs": [],
   "source": [
    "# mathmatical `+`\n",
    "first = 10\n",
    "second = 15\n",
    "print(first+second)"
   ]
  },
  {
   "cell_type": "code",
   "execution_count": null,
   "metadata": {
    "slideshow": {
     "slide_type": "subslide"
    }
   },
   "outputs": [],
   "source": [
    "# string `+`\n",
    "first = '100'\n",
    "second = '150'\n",
    "print(first+second)"
   ]
  },
  {
   "cell_type": "code",
   "execution_count": null,
   "metadata": {
    "slideshow": {
     "slide_type": "subslide"
    }
   },
   "outputs": [],
   "source": [
    "first = 'Python '\n",
    "second = 3\n",
    "print(first * second)"
   ]
  },
  {
   "cell_type": "markdown",
   "metadata": {
    "slideshow": {
     "slide_type": "slide"
    }
   },
   "source": [
    "# Asking for User Input \n",
    "\n",
    "\n",
    "Sometimes we would like to take the value for a variable from the user via their keyboard.\n",
    "- Python use a built-in function `input()` for that\n",
    "    - When `input()` is called, the program stops and wait for user to type\n",
    "    - When user press `Return` or `Enter` the program resumes and takes user input as a _string_\n",
    "    \n",
    "For example:"
   ]
  },
  {
   "cell_type": "code",
   "execution_count": null,
   "metadata": {
    "slideshow": {
     "slide_type": "subslide"
    }
   },
   "outputs": [],
   "source": [
    "user_input = input()"
   ]
  },
  {
   "cell_type": "code",
   "execution_count": null,
   "metadata": {
    "slideshow": {
     "slide_type": "subslide"
    }
   },
   "outputs": [],
   "source": [
    "print(user_input)"
   ]
  },
  {
   "cell_type": "markdown",
   "metadata": {
    "slideshow": {
     "slide_type": "slide"
    }
   },
   "source": [
    "# Asking for User Input\n",
    "\n",
    "- It is always a good practice to tell the user what to input\n",
    "    - You can use that by putting a string between the parentheses after `input` \n",
    "    - This is called a parameter (to the function `input()`\n",
    "    - We will talk more about functions and paramters in next week\n",
    "\n",
    "- The sequence \\n at the end of the prompt represents a _newline_, which is a _special character_ that causes a line break.\n",
    "    - We will talk more about _special characters_ in Chapter 11\n",
    "\n",
    "For example:"
   ]
  },
  {
   "cell_type": "code",
   "execution_count": null,
   "metadata": {
    "slideshow": {
     "slide_type": "subslide"
    }
   },
   "outputs": [],
   "source": [
    "course = input('What is the class you are in now?\\n')"
   ]
  },
  {
   "cell_type": "code",
   "execution_count": null,
   "metadata": {
    "slideshow": {
     "slide_type": "subslide"
    }
   },
   "outputs": [],
   "source": [
    "print(course)"
   ]
  },
  {
   "cell_type": "markdown",
   "metadata": {
    "slideshow": {
     "slide_type": "slide"
    }
   },
   "source": [
    "# Comments (Again!!!)\n",
    "\n",
    "- As programs getting longer, they become harder to read\n",
    "    - it is difficult for other people (e.g. me) to understand your code\n",
    "    - it is also difficult for yourself to recollect what and why your wrote certain code \n",
    "    \n",
    "- For this reason, it is good practice to add comments to your code\n",
    "    - explain in natural language what and why the code is doing \n",
    "    - You can start your comments with the `#` symbol\n",
    "    \n",
    "- You can put the comments:\n",
    "    - In a line by themselves, usually before the code they explain\n",
    "    - or in the same line, after the code"
   ]
  },
  {
   "cell_type": "code",
   "execution_count": null,
   "metadata": {
    "slideshow": {
     "slide_type": "subslide"
    }
   },
   "outputs": [],
   "source": [
    "# compute the percentage of the hour that has elapsed\n",
    "percentage = (minute * 100) / 60"
   ]
  },
  {
   "cell_type": "code",
   "execution_count": null,
   "metadata": {
    "slideshow": {
     "slide_type": "subslide"
    }
   },
   "outputs": [],
   "source": [
    "# Same as above\n",
    "percentage = (minute * 100) / 60 # percentage of an hour"
   ]
  },
  {
   "cell_type": "markdown",
   "metadata": {
    "slideshow": {
     "slide_type": "slide"
    }
   },
   "source": [
    "# Comments\n",
    "\n",
    "- In this course, for every program you submitted as a part of the course work, you have to provide __comments__ for every code block\n",
    "- Everything after `#` is ignored by the Python compiler\n",
    "    - So you can use `#` to 'comment out' code that you do not want to run\n",
    "    \n",
    "```python\n",
    "# some text code\n",
    "x = 3\n",
    "...\n",
    "```\n",
    "\n",
    "- Your comment should always provide new or at least non-obvious information\n",
    "    - Comments should be used when variable names are not self-explanatory\n",
    "```python\n",
    "### BAD comment\n",
    "v = 5 # assign 5 to v\n",
    "### Good comment\n",
    "v = 5 # velocity in meters/second.\n",
    "```"
   ]
  },
  {
   "cell_type": "markdown",
   "metadata": {
    "slideshow": {
     "slide_type": "slide"
    }
   },
   "source": [
    "# Choosing Good Variable Names\n",
    "- We said that your variable names should be self explanatory\n",
    "    - But what do we mean?\n",
    "    \n",
    "```python\n",
    "a = 35.0 \n",
    "b = 12.50 \n",
    "c=a*b \n",
    "print(c)\n",
    "\n",
    "hours = 35.0\n",
    "rate = 12.50\n",
    "pay = hours * rate\n",
    "print(pay)\n",
    "\n",
    "x1q3z9ahd = 35.0\n",
    "x1q3z9afd = 12.50\n",
    "x1q3p9afd = x1q3z9ahd * x1q3z9afd\n",
    "print(x1q3p9afd)\n",
    "```\n",
    "\n",
    "The Python interpreter sees all three above as the same program, but can you tell the difference? And which one is better?\n"
   ]
  },
  {
   "cell_type": "markdown",
   "metadata": {
    "slideshow": {
     "slide_type": "slide"
    }
   },
   "source": [
    "# Debugging\n",
    "\n",
    "Refer to PY4E text 2.13 (pp. 28) "
   ]
  },
  {
   "cell_type": "markdown",
   "metadata": {
    "slideshow": {
     "slide_type": "slide"
    }
   },
   "source": [
    "# Your Turn Here\n",
    "Finish exercises below by following instructions of each of them."
   ]
  },
  {
   "cell_type": "markdown",
   "metadata": {
    "slideshow": {
     "slide_type": "subslide"
    }
   },
   "source": [
    "## Q1: Debugging Question\n",
    "```python\n",
    "# What is wrong with following statement? How do your fix it?\n",
    "my variable == 3\n",
    "```\n",
    "Use the code block below to fix the code, and provide comments about how you fixed it."
   ]
  },
  {
   "cell_type": "code",
   "execution_count": 6,
   "metadata": {},
   "outputs": [
    {
     "data": {
      "text/plain": [
       "3"
      ]
     },
     "execution_count": 6,
     "metadata": {},
     "output_type": "execute_result"
    }
   ],
   "source": [
    "#== used to compare two different variables that have already been assigned\n",
    "#= is used to assign new variable\n",
    "#Python does not accept space when assigning new variables, we can use my_variable or myvariable\n",
    "\n",
    "my_variable = 3\n",
    "my_variable"
   ]
  },
  {
   "cell_type": "markdown",
   "metadata": {
    "slideshow": {
     "slide_type": "slide"
    }
   },
   "source": [
    "## Q2: Coding Question\n",
    "\n",
    "Ask the user (yourself) to enter two intergers, and print out the sum and difference of the two integers.\n",
    "- You need to make sure your program only take integers, so if a float is entered, it need to be converted to integers.\n",
    "    - HINT: read PY4E pp. 25 - 26.\n",
    "- The expected output for your code is (you can use different numbers in your own code):\n",
    "```\n",
    "Enter your first integer: 10\n",
    "Enter your second integer: 20\n",
    "The sum is: 30\n",
    "The difference is: -10\n",
    "```\n",
    "\n",
    "Complete/fix the code below."
   ]
  },
  {
   "cell_type": "code",
   "execution_count": 4,
   "metadata": {
    "slideshow": {
     "slide_type": "subslide"
    }
   },
   "outputs": [
    {
     "name": "stdin",
     "output_type": "stream",
     "text": [
      "Enter your first integer:  6\n"
     ]
    }
   ],
   "source": [
    "try:# account for only entering integers!\n",
    "    num1 = int(input('Enter your first integer: '))\n",
    "except:\n",
    "    print('Please enter an interger')\n",
    "    num1 = int(input('Enter your first integer: '))"
   ]
  },
  {
   "cell_type": "code",
   "execution_count": 2,
   "metadata": {
    "slideshow": {
     "slide_type": "subslide"
    }
   },
   "outputs": [
    {
     "name": "stdin",
     "output_type": "stream",
     "text": [
      "Enter your second integer:  6\n"
     ]
    }
   ],
   "source": [
    "try:# account for only entering integers!\n",
    "    num2 = int(input('Enter your second integer: '))\n",
    "except:\n",
    "    print('Please enter an interger')\n",
    "    num2 = int(input('Enter your second integer: '))"
   ]
  },
  {
   "cell_type": "code",
   "execution_count": 5,
   "metadata": {
    "slideshow": {
     "slide_type": "subslide"
    }
   },
   "outputs": [
    {
     "name": "stdout",
     "output_type": "stream",
     "text": [
      "The sum is:  12\n"
     ]
    }
   ],
   "source": [
    "print('The sum is: ', num1 + num2)"
   ]
  },
  {
   "cell_type": "code",
   "execution_count": 6,
   "metadata": {
    "slideshow": {
     "slide_type": "subslide"
    }
   },
   "outputs": [
    {
     "name": "stdout",
     "output_type": "stream",
     "text": [
      "The difference is: 0\n"
     ]
    }
   ],
   "source": [
    "print('The difference is:', num1 - num2)"
   ]
  },
  {
   "cell_type": "markdown",
   "metadata": {
    "slideshow": {
     "slide_type": "slide"
    }
   },
   "source": [
    "## Q3: Coding Question\n",
    "\n",
    "Compute the area of a triagle.\n",
    "From the geometry class we know the area of a triangle is computed via:\n",
    "\n",
    "\n",
    "$ \n",
    "\\begin {equation*}\n",
    "\\mathbf{Area} = \\frac{(height x base)}{2} \n",
    "\\end {equation*}\n",
    "$\n",
    "\n",
    "Write your own code, with comments, to implement above equation.\n"
   ]
  },
  {
   "cell_type": "code",
   "execution_count": 17,
   "metadata": {
    "slideshow": {
     "slide_type": "subslide"
    }
   },
   "outputs": [
    {
     "name": "stdin",
     "output_type": "stream",
     "text": [
      "what is your height 5\n",
      "what is your base 5\n"
     ]
    },
    {
     "name": "stdout",
     "output_type": "stream",
     "text": [
      "Your Area is: 12.5\n"
     ]
    }
   ],
   "source": [
    "#declaer the variables\n",
    "#account if the user use negative number or zero\n",
    "try:#  account for if the user used letters instead of number\n",
    "    height=float(input(\"what is your height\"))#account for floats\n",
    "except:\n",
    "    print('Please only use Real Positive numbers greater than 0')\n",
    "    height=float(input(\"what is your height\"))#account for floats\n",
    "try:\n",
    "    base=float(input(\"what is your base\"))\n",
    "except:\n",
    "    print('Please only use Real Positive numbers greater than 0')\n",
    "    base=float(input(\"what is your base\"))\n",
    "#the fourmala for the Aera = (heightXbase)/2\n",
    "area=((height*base)/2)\n",
    "if (height<=0 or base<=0 ):\n",
    "    print('Please only use Real Positive numbers greater than 0')\n",
    "else:\n",
    "        print('Your Area is:',area)\n",
    "\n",
    "   "
   ]
  },
  {
   "cell_type": "markdown",
   "metadata": {
    "slideshow": {
     "slide_type": "slide"
    }
   },
   "source": [
    "![DSB Logo](img/Dolan.jpg)\n",
    "# Python Essentials: Conditional Execution\n",
    "## PY4E Chapter 3\n",
    "### What you must know about Python"
   ]
  },
  {
   "cell_type": "markdown",
   "metadata": {
    "slideshow": {
     "slide_type": "slide"
    }
   },
   "source": [
    "# Boolean Expressions\n",
    "A boolean expression is an expression that is either true or false.\n",
    "- Python use the operator `==`, which compares two operands\n",
    "- roduces `True` if they are equal and `False` otherwise\n",
    "\n",
    "`True` and `False` are special values that belong to the class _bool_; they are not _strings_"
   ]
  },
  {
   "cell_type": "code",
   "execution_count": null,
   "metadata": {
    "slideshow": {
     "slide_type": "subslide"
    }
   },
   "outputs": [],
   "source": [
    "5 == 5"
   ]
  },
  {
   "cell_type": "code",
   "execution_count": null,
   "metadata": {
    "slideshow": {
     "slide_type": "subslide"
    }
   },
   "outputs": [],
   "source": [
    "5 == 6"
   ]
  },
  {
   "cell_type": "markdown",
   "metadata": {
    "slideshow": {
     "slide_type": "slide"
    }
   },
   "source": [
    "# Comparison Operators\n",
    "\n",
    "The `==` operator is one of the _comparison operators_; the others are:\n",
    "\n",
    "```python\n",
    "x != y     # x is not equal to y\n",
    "x > y      # x is greater than y\n",
    "x < y      # x is less than y\n",
    "x >= y     # x is greater than or equal to y\n",
    "x <= y     # x is less than or equalto y\n",
    "x is y     # x is the same as y\n",
    "x is not y # x is not the same as y\n",
    "```\n",
    "__NOTE__: \n",
    "1. keep in mind in Python `=` is the _assignment operator_ not _equal_\n",
    "2. `==` are used to compare number; `is` can be used to compare numbers, strings, ...  \n"
   ]
  },
  {
   "cell_type": "markdown",
   "metadata": {
    "slideshow": {
     "slide_type": "slide"
    }
   },
   "source": [
    "# Logical Operators\n",
    "\n",
    "There are three logical operators: `and`, `or`, and `not`. \n",
    "    - The semantics (meaning) of these operators is similar to their meaning in English.\n",
    "    - For example:\n",
    "```python \n",
    "    x > 0 and x < 10\n",
    "```\n",
    "    \n",
    "    is only `True` if `x` is greater than 0 and less than 10.\n",
    "    \n",
    "```python\n",
    "    n%2 == 0 or n%3 == 0  \n",
    "```\n",
    "    \n",
    "    is `True` if either of the conditions is true, that is, if the number is divisible by 2 or 3.\n",
    "    \n",
    "```python\n",
    "    not (x > y)\n",
    "```\n",
    "    \n",
    "    is `True` if `x > y`is `False`; that is,if `x` is less than or equal to `y`.\n",
    "    \n",
    "__NOTE:___ Any _non-zero_ number is `True`."
   ]
  },
  {
   "cell_type": "markdown",
   "metadata": {
    "slideshow": {
     "slide_type": "slide"
    }
   },
   "source": [
    "# IF statements\n",
    "\n",
    "In a lot of programs, we need the program to change behavior based on certain conditions\n",
    "    - The simplest conditional execution is _IF statements_\n",
    "    - Psuedo Code:\n",
    "```python\n",
    "if condition:\n",
    "    # condition is True\n",
    "    do something\n",
    "   \n",
    "else:\n",
    "    # condition is false\n",
    "    ...\n",
    "```\n"
   ]
  },
  {
   "cell_type": "markdown",
   "metadata": {
    "slideshow": {
     "slide_type": "slide"
    }
   },
   "source": [
    "# Dissecting IF Statements\n",
    "\n",
    "Any if statement would have three required components and one optional component:\n",
    "- keyword `if` indicates the statement;\n",
    "- certain `condition` that is an expression with _comparison operators_ and _logical operators_\n",
    "    - after `condition`, do NOT forget the colon (`:`)\n",
    "- Whatever you want the program to do if `condition` is `True`\n",
    "    - no limitation of the statements within the IF statement, but at least one\n",
    "    - if you do not have any statement，you can use `pass` statement to escape from the IF statement\n",
    "- (Optional) `else` clause indicating if `condition` is `False` what you want the program to do\n",
    "    - if there is no `else` clause then the program continues to the statement after the IF statement"
   ]
  },
  {
   "cell_type": "code",
   "execution_count": null,
   "metadata": {
    "slideshow": {
     "slide_type": "subslide"
    }
   },
   "outputs": [],
   "source": [
    "x = 10\n",
    "if (x % 2 == 0):\n",
    "    print(x, 'is even')\n",
    "else:\n",
    "    print(x, 'is odd') # this will not execute"
   ]
  },
  {
   "cell_type": "code",
   "execution_count": null,
   "metadata": {
    "slideshow": {
     "slide_type": "subslide"
    }
   },
   "outputs": [],
   "source": [
    "# Same output as above - different logic\n",
    "x = 10\n",
    "if (x % 2 != 0):\n",
    "    pass\n",
    "else:\n",
    "    print(x, 'is even') "
   ]
  },
  {
   "cell_type": "markdown",
   "metadata": {
    "slideshow": {
     "slide_type": "slide"
    }
   },
   "source": [
    "# Chained Conditionals\n",
    "\n",
    "The IF statement (`if-else`) contains at most _two_ alternatives (`True` or `False`) - and at a time only _one_ of the two alternatives executes.\n",
    "Sometimes we need more than two alternatives (aka. branches), so we can use a chained conditional.\n",
    "Psuedo code:\n",
    "```python\n",
    "if condition1:\n",
    "    statement1\n",
    "elif condition2:\n",
    "    statement2\n",
    "...\n",
    "```"
   ]
  },
  {
   "cell_type": "code",
   "execution_count": null,
   "metadata": {
    "slideshow": {
     "slide_type": "subslide"
    }
   },
   "outputs": [],
   "source": [
    "x = 10\n",
    "y = 10\n",
    "\n",
    "if x < y:\n",
    "    print('x is less than y')\n",
    "elif x > y:\n",
    "    print('x is greater than y')\n",
    "else:\n",
    "    print('x and y are equal')\n"
   ]
  },
  {
   "cell_type": "code",
   "execution_count": null,
   "metadata": {
    "slideshow": {
     "slide_type": "subslide"
    }
   },
   "outputs": [],
   "source": [
    "# Another example\n",
    "choice = input('Enter your guess (a, b, or, c): ')\n",
    "\n",
    "if choice == 'a': \n",
    "    print('Bad guess')\n",
    "elif choice == 'b': \n",
    "    print('Good guess')\n",
    "elif choice == 'c':\n",
    "    print('Close, but not correct')\n",
    "else: print(\"only enter a valid choice\")"
   ]
  },
  {
   "cell_type": "markdown",
   "metadata": {
    "slideshow": {
     "slide_type": "slide"
    }
   },
   "source": [
    "# Nested Conditionals\n",
    "One conditional can also be nested within another. We could have written the three-branch example like this:\n",
    "```python\n",
    "if x == y:\n",
    "    print('x and y are equal')\n",
    "else:\n",
    "    if x < y:\n",
    "        print('x is less than y') \n",
    "    else:\n",
    "        print('x is greater than y')\n",
    "```\n",
    "__NOTE__: Nested conditionals hurt readability of your code, avoid them if you can."
   ]
  },
  {
   "cell_type": "markdown",
   "metadata": {
    "slideshow": {
     "slide_type": "subslide"
    }
   },
   "source": [
    "# Your Turn Here\n",
    "Rewrite the (a, b, c) choice conditional using Nested Conditionals."
   ]
  },
  {
   "cell_type": "code",
   "execution_count": null,
   "metadata": {
    "slideshow": {
     "slide_type": "subslide"
    }
   },
   "outputs": [],
   "source": [
    "choice = input(' Enter your guess(a,b,or,c): ')\n",
    "\n",
    "if choice == 'a':\n",
    "    print('bad guess')\n",
    "else:\n",
    "    if choice =='b':\n",
    "        print('good guess')\n",
    "else:\n",
    "    if choice =='c':\n",
    "        print('close but no correct')\n",
    "else: print ('only enter a valid choice')"
   ]
  },
  {
   "cell_type": "markdown",
   "metadata": {
    "slideshow": {
     "slide_type": "slide"
    }
   },
   "source": [
    "# Nested Conditionals\n",
    "\n",
    "Sometimes we come up with nested conditionals like below:\n",
    "```python\n",
    "if x > 0:\n",
    "    if x < 10:\n",
    "        print('x is a positive single-digit number.')\n",
    "```\n",
    "The `print()` statement is executed only if both conditions are `True`.\n",
    "\n",
    "We can simply use a _logical operater+ instead:\n",
    "```python\n",
    "if (x >10 and x <10):\n",
    "    print('x is a positive single-digit number.')\n",
    "```"
   ]
  },
  {
   "cell_type": "markdown",
   "metadata": {
    "slideshow": {
     "slide_type": "slide"
    }
   },
   "source": [
    "# Try-Except Catch\n",
    "\n",
    "Consider the (a, b, c) choice example, what would happen if we input something other than (a, b, c)?\n",
    "\n",
    "Or the user input example from last week, what if we entered something other than an integer?\n",
    "\n",
    "Let's try..."
   ]
  },
  {
   "cell_type": "code",
   "execution_count": null,
   "metadata": {
    "slideshow": {
     "slide_type": "subslide"
    }
   },
   "outputs": [],
   "source": [
    "# Another example\n",
    "# This example shows that your conditions must be exhausive\n",
    "choice = input('Enter your guess (a, b, or, c): ')\n",
    "\n",
    "if choice == 'a': \n",
    "    print('Bad guess')\n",
    "elif choice == 'b': \n",
    "    print('Good guess')\n",
    "elif choice == 'c':\n",
    "    print('Close, but not correct')"
   ]
  },
  {
   "cell_type": "code",
   "execution_count": null,
   "metadata": {
    "slideshow": {
     "slide_type": "subslide"
    }
   },
   "outputs": [],
   "source": [
    "inp = input('Enter Fahrenheit Temperature: ')\n",
    "fahr = float(inp)\n",
    "cel = (fahr - 32.0) * 5.0 / 9.0\n",
    "print(cel)"
   ]
  },
  {
   "cell_type": "markdown",
   "metadata": {
    "slideshow": {
     "slide_type": "slide"
    }
   },
   "source": [
    "# Try-Except Catch\n",
    "\n",
    "Python has a built-in conditional handle these types of expected and unexpected errors called “try / except”\n",
    "    - The idea of try and except is that you know that some sequence of instruction(s) may have a problem\n",
    "    - you want to add some statements to be executed if an error occurs\n",
    "\n",
    "We can rewrite our temperature converter as follows:"
   ]
  },
  {
   "cell_type": "code",
   "execution_count": null,
   "metadata": {
    "slideshow": {
     "slide_type": "slide"
    }
   },
   "outputs": [],
   "source": [
    "inp = input('Enter Fahrenheit Temperature: ') \n",
    "try:\n",
    "    fahr = float(inp)\n",
    "    cel = (fahr - 32.0) * 5.0 / 9.0\n",
    "    print(cel)\n",
    "except:\n",
    "    print('Please enter a number')"
   ]
  },
  {
   "cell_type": "markdown",
   "metadata": {
    "slideshow": {
     "slide_type": "slide"
    }
   },
   "source": [
    "# Evaluating Your Conditions (Logical Expressions)\n",
    "\n",
    "- Before you write a conditional statement, you should always test your conditions\n",
    "    - To see if that fits your logic (expectation)\n",
    "    - Best way to avoid logic error\n",
    "    - Means you need to have sound logic before coding\n",
    "    - Think about following examples\n",
    "```python\n",
    "x = 9\n",
    "y = 3\n",
    "x % 2 == 0 # True or False?\n",
    "x % 3 == 0 # True or False?\n",
    "x % 2 == 0 and y % 3 ==0 # True or False?\n",
    "x % 2 == 0 or y % 3 == 0 # True or False?\n",
    "```"
   ]
  },
  {
   "cell_type": "markdown",
   "metadata": {
    "slideshow": {
     "slide_type": "slide"
    }
   },
   "source": [
    "# Evaluating Your Conditions (Logical Expressions)\n",
    "\n",
    "- This is a very important step before _coding_ and _debugging_\n",
    "- You need to test your conditions using different values to test the soundness of your logic\n",
    "- It is okay if your logic is not sound at first, but you should be able to add conditions to make it better"
   ]
  },
  {
   "cell_type": "markdown",
   "metadata": {
    "slideshow": {
     "slide_type": "slide"
    }
   },
   "source": [
    "# Debugging \n",
    "\n",
    "Refer to PY4E pp. 39"
   ]
  },
  {
   "cell_type": "markdown",
   "metadata": {
    "slideshow": {
     "slide_type": "slide"
    }
   },
   "source": [
    "# Your Turn Here\n",
    "Finish exercises below by following instructions of each of them."
   ]
  },
  {
   "cell_type": "markdown",
   "metadata": {
    "slideshow": {
     "slide_type": "slide"
    }
   },
   "source": [
    "## Q1. Coding Problem\n",
    "\n",
    "### Check Factors:\n",
    "\n",
    "Given __four__ values, check if the first three values are factors of __fourth__ value. [Factor](https://www.britannica.com/science/factor-mathematics), in mathematics, a number or algebraic expression that divides another number or expression evenly.\n",
    "\n",
    "Example input/output:\n",
    "\n",
    "- 1, 2, 4, 8 -> Yes, 1, 2, 4 are all factors of 8.\n",
    "- 1, 2, 3, 9 -> No, 1, 2, 3 are not all factors of 9.\n",
    "- 1, 2, 50, 100 -> Yes, 1, 2, 50 are all factors of 100.\n",
    "\n",
    "Use the code block below to write your program."
   ]
  },
  {
   "cell_type": "code",
   "execution_count": 1,
   "metadata": {
    "slideshow": {
     "slide_type": "subslide"
    }
   },
   "outputs": [
    {
     "data": {
      "text/plain": [
       "True"
      ]
     },
     "execution_count": 1,
     "metadata": {},
     "output_type": "execute_result"
    }
   ],
   "source": [
    "# we define the variables\n",
    "a = 1\n",
    "b = 2\n",
    "c = 4\n",
    "d = 8\n",
    "\n",
    "# then we use the operator 'and' to see if the statement is \n",
    "# if true the a,b,c variables are factors of the d variable\n",
    "d % a == 0 and d % b == 0 and d % b == 0\n"
   ]
  },
  {
   "cell_type": "code",
   "execution_count": 2,
   "metadata": {},
   "outputs": [
    {
     "data": {
      "text/plain": [
       "False"
      ]
     },
     "execution_count": 2,
     "metadata": {},
     "output_type": "execute_result"
    }
   ],
   "source": [
    "# we define the variables\n",
    "a = 1\n",
    "b = 2\n",
    "c = 3\n",
    "d = 9\n",
    "\n",
    "# then we use the operator 'and' to see if the statement is \n",
    "# if true the a,b,c variables are factors of the d variable\n",
    "d % a == 0 and d % b == 0 and d % b == 0"
   ]
  },
  {
   "cell_type": "code",
   "execution_count": 3,
   "metadata": {},
   "outputs": [
    {
     "data": {
      "text/plain": [
       "True"
      ]
     },
     "execution_count": 3,
     "metadata": {},
     "output_type": "execute_result"
    }
   ],
   "source": [
    "# we define the variables\n",
    "a = 1\n",
    "b = 2\n",
    "c = 50\n",
    "d = 100\n",
    "\n",
    "# then we use the operator 'and' to see if the statement is \n",
    "# if true the a,b,c variables are factors of the d variable\n",
    "d % a == 0 and d % b == 0 and d % b == 0"
   ]
  },
  {
   "cell_type": "markdown",
   "metadata": {
    "slideshow": {
     "slide_type": "slide"
    }
   },
   "source": [
    "# Q2. Coding Problem\n",
    "\n",
    "### Grading scale:\n",
    "\n",
    "Suppose a high school uses following grading scale:\n",
    "\n",
    "| Letter Grade | Point Range |\n",
    "|--------------|-------------|\n",
    "|       A      |  90 - 100   |\n",
    "|       B      |  80 - 89    |\n",
    "|       C      |  70 - 79    |\n",
    "|       D      |  60 - 69    |\n",
    "|       F      |   0 - 59    |\n",
    "\n",
    "Write two programs, one using __chained conditionals__, the other using __nested conditionals__, to:\n",
    "- Take the user input of a point grade;\n",
    "    - if the input is not a number, or not in the range of [0, 100] then print `'Enter a legit point please!'`\n",
    "- Display the according letter grade using the table below;\n"
   ]
  },
  {
   "cell_type": "code",
   "execution_count": null,
   "metadata": {
    "slideshow": {
     "slide_type": "subslide"
    }
   },
   "outputs": [],
   "source": [
    "# Take user inpute in grade\n",
    "#need to capture non-numerice inputes\n",
    "# and outside of [0,100]\n",
    "#woring assumption all grades are integers\n",
    "#what to do with non-integers\n",
    "\n"
   ]
  },
  {
   "cell_type": "code",
   "execution_count": null,
   "metadata": {},
   "outputs": [],
   "source": [
    "grade = input('please enter a  grade as a number: ')# remmber this is a string \n",
    "\n",
    "try:\n",
    "    grade =float(grade)\n",
    "\n",
    "    if (grade>= 90 and grade <=100):\n",
    "        print('A')\n",
    "    elif (grade>= 89 and grade <=89):\n",
    "        print('B')\n",
    "    elif (grade>= 70 and grade <=79):\n",
    "        print('C')\n",
    "    elif (grade>= 60 and grade <=69):\n",
    "        print('D')\n",
    "    elif (grade>= 0 and grade <=59):\n",
    "        print('F')\n",
    "    else:\n",
    "        print('please enter a valid point!')\n",
    "except:\n",
    "    print('please enter a valid point, only use numbers!')\n"
   ]
  },
  {
   "cell_type": "markdown",
   "metadata": {
    "slideshow": {
     "slide_type": "slide"
    }
   },
   "source": [
    "## Q3. Code Completion Question\n",
    "\n",
    "### Range of Third Edge\n",
    "\n",
    "From geometry we know that for any triangle, lenthg of the third edge of the traingle falls into a certain range:\n",
    "\n",
    "> (`edge1_len` - `edge2_len`) + `1` <= `edge3_len` <=  (`edge1_len` + `edge2_len`) - `1`\n",
    "\n",
    "In which, edge1_len is the length of the 1st edge, and so forth.\n",
    "\n",
    "Complete/Fix the following program, so that it can:\n",
    "- Take user inputs of `edge1_len` and `edge2_len`\n",
    "- Print out the range of the third edge\n",
    "- If any of the input is not number, print out error `'Please only enter numeric values!'`"
   ]
  },
  {
   "cell_type": "code",
   "execution_count": 11,
   "metadata": {
    "slideshow": {
     "slide_type": "subslide"
    }
   },
   "outputs": [
    {
     "name": "stdin",
     "output_type": "stream",
     "text": [
      "Please enter edge1 length:  5.0\n",
      "Please enter edge2 length:  6.0\n"
     ]
    },
    {
     "name": "stdout",
     "output_type": "stream",
     "text": [
      "Please only enter numeric values!\n"
     ]
    }
   ],
   "source": [
    "#### Take user input of edge 1 \n",
    "edge1_len = input('Please enter edge1 length: ')\n",
    "edge2_len = input('Please enter edge2 length: ')\n",
    "max_len = 0\n",
    "min_len = 0\n",
    "\n",
    "\n",
    "try:\n",
    "    edge1_len = float(edge1_len) # converts edge1 to floats\n",
    "    edge2_len = float(edge2_len) # converts edge2 to floats\n",
    "    min_len = (abs(edge1_len - edge2_len) + 1) # abs() takes the absolute value since the length cannot be negative\n",
    "    max_len = (abs(edge1_len + edge2_len) - 1) \n",
    "    print('Range of length of edge3 is: ', min_len, '<= edge3 <=', max_len)\n",
    "except:\n",
    "    print('Please only enter numeric values!')"
   ]
  },
  {
   "cell_type": "markdown",
   "metadata": {
    "slideshow": {
     "slide_type": "slide"
    }
   },
   "source": [
    "# Classwork (start here in class)\n",
    "You can start working on them right now:\n",
    "- Read Chapter 2 & 3 in PY4E\n",
    "- If time permits, start in on your homework. \n",
    "- Ask questions when you need help. Use this time to get help from the professor!\n",
    "\n",
    "# Homework (do at home)\n",
    "The following is due before class next week:\n",
    "  - Any remaining classwork from tonight\n",
    "  - Data Camp “Python Basics” assignment (part 2)\n",
    "\n",
    "Note: All work on Data Camp is logged. Don't try to fake it!\n",
    "\n",
    "Please email jtao@fairfield.edu if you have any problems or questions."
   ]
  },
  {
   "cell_type": "markdown",
   "metadata": {
    "slideshow": {
     "slide_type": "slide"
    }
   },
   "source": [
    "![DSB Logo](img/Dolan.jpg)\n",
    "# Python Essentials: Variables, Expressions, Statements, and Conditions\n",
    "## PY4E Chapter 2 & 3\n",
    "### What you must know about Python"
   ]
  },
  {
   "cell_type": "code",
   "execution_count": null,
   "metadata": {},
   "outputs": [],
   "source": []
  }
 ],
 "metadata": {
  "celltoolbar": "Slideshow",
  "kernelspec": {
   "display_name": "Python 3",
   "language": "python",
   "name": "python3"
  },
  "language_info": {
   "codemirror_mode": {
    "name": "ipython",
    "version": 3
   },
   "file_extension": ".py",
   "mimetype": "text/x-python",
   "name": "python",
   "nbconvert_exporter": "python",
   "pygments_lexer": "ipython3",
   "version": "3.6.7"
  }
 },
 "nbformat": 4,
 "nbformat_minor": 2
}
