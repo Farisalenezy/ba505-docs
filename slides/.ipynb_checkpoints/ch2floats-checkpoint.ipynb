{
 "cells": [
  {
   "cell_type": "code",
   "execution_count": null,
   "metadata": {},
   "outputs": [],
   "source": []
  },
  {
   "cell_type": "code",
   "execution_count": 4,
   "metadata": {},
   "outputs": [
    {
     "name": "stdin",
     "output_type": "stream",
     "text": [
      "please enter a  grade as a number:  h\n"
     ]
    },
    {
     "ename": "SyntaxError",
     "evalue": "'return' outside function (<ipython-input-4-69a6a00004e9>, line 22)",
     "output_type": "error",
     "traceback": [
      "\u001b[0;36m  File \u001b[0;32m\"<ipython-input-4-69a6a00004e9>\"\u001b[0;36m, line \u001b[0;32m22\u001b[0m\n\u001b[0;31m    return\u001b[0m\n\u001b[0m    ^\u001b[0m\n\u001b[0;31mSyntaxError\u001b[0m\u001b[0;31m:\u001b[0m 'return' outside function\n"
     ]
    }
   ],
   "source": [
    "#q3 ch3\n",
    "grade = input('please enter a  grade as a number: ')# remmber this is a string \n",
    "\n",
    "try:\n",
    "    grade =float(grade)\n",
    "\n",
    "    if (grade>= 90 and grade <=100):\n",
    "        print('A')\n",
    "    elif (grade>= 89 and grade <=89):\n",
    "        print('B')\n",
    "    elif (grade>= 70 and grade <=79):\n",
    "        print('C')\n",
    "    elif (grade>= 60 and grade <=69):\n",
    "        print('D')\n",
    "    elif (grade>= 0 and grade <=59):\n",
    "        print('F')\n",
    "    else:\n",
    "        print('please enter a valid point!')\n",
    "        \n",
    "except:\n",
    "    print('please enter a valid point, only use numbers!')\n",
    "\n",
    "\n"
   ]
  },
  {
   "cell_type": "code",
   "execution_count": 1,
   "metadata": {},
   "outputs": [
    {
     "name": "stdin",
     "output_type": "stream",
     "text": [
      "Enter your first integer:  5\n"
     ]
    }
   ],
   "source": [
    "try:# account for only entering integers!\n",
    "    num1 = int(input('Enter your first integer: '))\n",
    "except:\n",
    "    print('Please enter an interger')\n",
    "    num1 = int(input('Enter your first integer: '))"
   ]
  },
  {
   "cell_type": "code",
   "execution_count": 2,
   "metadata": {},
   "outputs": [
    {
     "ename": "NameError",
     "evalue": "name 'num1' is not defined",
     "output_type": "error",
     "traceback": [
      "\u001b[0;31m---------------------------------------------------------------------------\u001b[0m",
      "\u001b[0;31mNameError\u001b[0m                                 Traceback (most recent call last)",
      "\u001b[0;32m<ipython-input-2-96009e11c1eb>\u001b[0m in \u001b[0;36m<module>\u001b[0;34m\u001b[0m\n\u001b[1;32m      1\u001b[0m \u001b[0;32mtry\u001b[0m\u001b[0;34m:\u001b[0m\u001b[0;34m\u001b[0m\u001b[0;34m\u001b[0m\u001b[0m\n\u001b[1;32m      2\u001b[0m     \u001b[0;31m#Ensure it can be caste to an int\u001b[0m\u001b[0;34m\u001b[0m\u001b[0;34m\u001b[0m\u001b[0;34m\u001b[0m\u001b[0m\n\u001b[0;32m----> 3\u001b[0;31m     \u001b[0mnum1\u001b[0m \u001b[0;34m=\u001b[0m \u001b[0mint\u001b[0m\u001b[0;34m(\u001b[0m\u001b[0mnum1\u001b[0m\u001b[0;34m)\u001b[0m\u001b[0;34m\u001b[0m\u001b[0;34m\u001b[0m\u001b[0m\n\u001b[0m\u001b[1;32m      4\u001b[0m \u001b[0;32mexcept\u001b[0m \u001b[0mValueError\u001b[0m\u001b[0;34m:\u001b[0m\u001b[0;34m\u001b[0m\u001b[0;34m\u001b[0m\u001b[0m\n\u001b[1;32m      5\u001b[0m     \u001b[0mprint\u001b[0m\u001b[0;34m(\u001b[0m\u001b[0;34m'Please enter integer input'\u001b[0m\u001b[0;34m)\u001b[0m\u001b[0;34m\u001b[0m\u001b[0;34m\u001b[0m\u001b[0m\n",
      "\u001b[0;31mNameError\u001b[0m: name 'num1' is not defined"
     ]
    }
   ],
   "source": []
  },
  {
   "cell_type": "code",
   "execution_count": 2,
   "metadata": {},
   "outputs": [
    {
     "name": "stdin",
     "output_type": "stream",
     "text": [
      "Enter your second integer:  4\n"
     ]
    }
   ],
   "source": [
    "\n",
    "try:# account for only entering integers!\n",
    "    num2 = int(input('Enter your second integer: '))\n",
    "except:\n",
    "    print('Please enter an interger')\n",
    "    num2 = int(input('Enter your second integer: '))"
   ]
  },
  {
   "cell_type": "code",
   "execution_count": 3,
   "metadata": {},
   "outputs": [
    {
     "name": "stdout",
     "output_type": "stream",
     "text": [
      "The sum is:  9\n"
     ]
    }
   ],
   "source": [
    "print('The sum is: ', num1 + num2)"
   ]
  },
  {
   "cell_type": "code",
   "execution_count": 6,
   "metadata": {},
   "outputs": [],
   "source": [
    "def factorable(divisors = []):\n",
    "    '''\n",
    "    params: divisors - array of int values which must contain 4 items. The last of these will be the dividend for the other 3\n",
    "    '''\n",
    "    try:\n",
    "#         print(type(divisors) == list)\n",
    "#         print(len(divisors) ==4)\n",
    "#         print((set(type(i) for i in divisors)))\n",
    "#         print((set(type(i) for i in divisors) == ({int})))\n",
    "\n",
    "        # Check to make sure input is a list, it is of the proper length, and it is made up of only integers\n",
    "        if ((type(divisors) == list) & (len(divisors) ==4) & (set(type(i) for i in divisors) == ({int}))):\n",
    "            # Last item is dividend\n",
    "            dividend = divisors[-1]\n",
    "            # Loop through results, dont need to test last to be slightly more performant\n",
    "            for divisor in divisors[0:-1]:\n",
    "                if dividend % divisor != 0:\n",
    "                    return False\n",
    "            return True\n",
    "        print('Check data types and list lengths!')\n",
    "    except Exception as e:\n",
    "        print('Check data types!')\n",
    "        print(e)"
   ]
  },
  {
   "cell_type": "code",
   "execution_count": 1,
   "metadata": {},
   "outputs": [
    {
     "name": "stdin",
     "output_type": "stream",
     "text": [
      "Enter your first value:  7\n",
      "Enter your second value:  h\n"
     ]
    },
    {
     "name": "stdout",
     "output_type": "stream",
     "text": [
      "Put in a real value.\n"
     ]
    }
   ],
   "source": [
    "try:\n",
    "    value_1 = int(abs(float(input('Enter your first value: '))))\n",
    "    value_2 = int(abs(float(input('Enter your second value: '))))\n",
    "    value_3 = int(abs(float(input('Enter your third value: '))))\n",
    "    value_4 = int(abs(float(input('Enter your fourth value: '))))\n",
    "\n",
    "\n",
    "# We are using the IF/ElSE conditional, so we test to see if the first three inputs are a factor of the fourth input,\n",
    "# or if num1, num2 and num3 are factors of num4.\n",
    "# We will generate a statement for each whether they are or not.\n",
    "\n",
    "\n",
    "    if (num4 % num1 == 0):\n",
    "        print(num1,' is a factor of ',num4)\n",
    "    else:\n",
    "        print(num1,' is not a factor of ',num4)\n",
    "    \n",
    "    \n",
    "    if (num4 % num2 == 0):\n",
    "        print(num2,' is a factor of ',num4)     \n",
    "    else:\n",
    "        print(num3,' is not a factor of ',num4)\n",
    "    \n",
    "    \n",
    "    if (num4 % num3 == 0):\n",
    "        print(num3,' is a factor of ',num4)   \n",
    "    else:\n",
    "        print(num2,' is not a factor of ',num4)\n",
    "\n",
    "except:\n",
    "    print('Put in a real value.')"
   ]
  },
  {
   "cell_type": "code",
   "execution_count": null,
   "metadata": {},
   "outputs": [],
   "source": []
  },
  {
   "cell_type": "code",
   "execution_count": null,
   "metadata": {},
   "outputs": [],
   "source": []
  }
 ],
 "metadata": {
  "kernelspec": {
   "display_name": "Python 3",
   "language": "python",
   "name": "python3"
  },
  "language_info": {
   "codemirror_mode": {
    "name": "ipython",
    "version": 3
   },
   "file_extension": ".py",
   "mimetype": "text/x-python",
   "name": "python",
   "nbconvert_exporter": "python",
   "pygments_lexer": "ipython3",
   "version": "3.6.7"
  }
 },
 "nbformat": 4,
 "nbformat_minor": 2
}
