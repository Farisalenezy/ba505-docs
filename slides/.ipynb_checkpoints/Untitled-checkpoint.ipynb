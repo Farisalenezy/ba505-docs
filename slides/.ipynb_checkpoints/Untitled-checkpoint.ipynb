{
 "cells": [
  {
   "cell_type": "code",
   "execution_count": null,
   "metadata": {},
   "outputs": [],
   "source": []
  },
  {
   "cell_type": "code",
   "execution_count": 3,
   "metadata": {},
   "outputs": [
    {
     "name": "stdin",
     "output_type": "stream",
     "text": [
      "please enter a  grade as a number:  5\n"
     ]
    },
    {
     "name": "stdout",
     "output_type": "stream",
     "text": [
      "F\n"
     ]
    }
   ],
   "source": [
    "grade = input('please enter a  grade as a number: ')# remmber this is a string \n",
    "\n",
    "try:\n",
    "    grade =float(grade)\n",
    "\n",
    "    if (grade>= 90 and grade <=100):\n",
    "        print('A')\n",
    "    elif (grade>= 89 and grade <=89):\n",
    "        print('B')\n",
    "    elif (grade>= 70 and grade <=79):\n",
    "        print('C')\n",
    "    elif (grade>= 60 and grade <=69):\n",
    "        print('D')\n",
    "    elif (grade>= 0 and grade <=59):\n",
    "        print('F')\n",
    "    else:\n",
    "        print('please enter a valid point!')\n",
    "except:\n",
    "    print('please enter a valid point, only use numbers!')\n"
   ]
  },
  {
   "cell_type": "code",
   "execution_count": null,
   "metadata": {},
   "outputs": [],
   "source": []
  }
 ],
 "metadata": {
  "kernelspec": {
   "display_name": "Python 3",
   "language": "python",
   "name": "python3"
  },
  "language_info": {
   "codemirror_mode": {
    "name": "ipython",
    "version": 3
   },
   "file_extension": ".py",
   "mimetype": "text/x-python",
   "name": "python",
   "nbconvert_exporter": "python",
   "pygments_lexer": "ipython3",
   "version": "3.6.7"
  }
 },
 "nbformat": 4,
 "nbformat_minor": 2
}
