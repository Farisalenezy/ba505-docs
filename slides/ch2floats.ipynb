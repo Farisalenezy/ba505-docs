{
 "cells": [
  {
   "cell_type": "code",
   "execution_count": null,
   "metadata": {},
   "outputs": [],
   "source": []
  },
  {
   "cell_type": "code",
   "execution_count": 4,
   "metadata": {},
   "outputs": [
    {
     "name": "stdin",
     "output_type": "stream",
     "text": [
      "please enter a  grade as a number:  h\n"
     ]
    },
    {
     "ename": "SyntaxError",
     "evalue": "'return' outside function (<ipython-input-4-69a6a00004e9>, line 22)",
     "output_type": "error",
     "traceback": [
      "\u001b[0;36m  File \u001b[0;32m\"<ipython-input-4-69a6a00004e9>\"\u001b[0;36m, line \u001b[0;32m22\u001b[0m\n\u001b[0;31m    return\u001b[0m\n\u001b[0m    ^\u001b[0m\n\u001b[0;31mSyntaxError\u001b[0m\u001b[0;31m:\u001b[0m 'return' outside function\n"
     ]
    }
   ],
   "source": [
    "#q3 ch3\n",
    "grade = input('please enter a  grade as a number: ')# remmber this is a string \n",
    "\n",
    "try:\n",
    "    grade =float(grade)\n",
    "\n",
    "    if (grade>= 90 and grade <=100):\n",
    "        print('A')\n",
    "    elif (grade>= 89 and grade <=89):\n",
    "        print('B')\n",
    "    elif (grade>= 70 and grade <=79):\n",
    "        print('C')\n",
    "    elif (grade>= 60 and grade <=69):\n",
    "        print('D')\n",
    "    elif (grade>= 0 and grade <=59):\n",
    "        print('F')\n",
    "    else:\n",
    "        print('please enter a valid point!')\n",
    "        \n",
    "except:\n",
    "    print('please enter a valid point, only use numbers!')\n",
    "\n",
    "\n"
   ]
  },
  {
   "cell_type": "code",
   "execution_count": 1,
   "metadata": {},
   "outputs": [
    {
     "name": "stdin",
     "output_type": "stream",
     "text": [
      "Enter your first integer:  5\n"
     ]
    }
   ],
   "source": [
    "try:# account for only entering integers!\n",
    "    num1 = int(input('Enter your first integer: '))\n",
    "except:\n",
    "    print('Please enter an interger')\n",
    "    num1 = int(input('Enter your first integer: '))"
   ]
  },
  {
   "cell_type": "code",
   "execution_count": 2,
   "metadata": {},
   "outputs": [
    {
     "ename": "NameError",
     "evalue": "name 'num1' is not defined",
     "output_type": "error",
     "traceback": [
      "\u001b[0;31m---------------------------------------------------------------------------\u001b[0m",
      "\u001b[0;31mNameError\u001b[0m                                 Traceback (most recent call last)",
      "\u001b[0;32m<ipython-input-2-96009e11c1eb>\u001b[0m in \u001b[0;36m<module>\u001b[0;34m\u001b[0m\n\u001b[1;32m      1\u001b[0m \u001b[0;32mtry\u001b[0m\u001b[0;34m:\u001b[0m\u001b[0;34m\u001b[0m\u001b[0;34m\u001b[0m\u001b[0m\n\u001b[1;32m      2\u001b[0m     \u001b[0;31m#Ensure it can be caste to an int\u001b[0m\u001b[0;34m\u001b[0m\u001b[0;34m\u001b[0m\u001b[0;34m\u001b[0m\u001b[0m\n\u001b[0;32m----> 3\u001b[0;31m     \u001b[0mnum1\u001b[0m \u001b[0;34m=\u001b[0m \u001b[0mint\u001b[0m\u001b[0;34m(\u001b[0m\u001b[0mnum1\u001b[0m\u001b[0;34m)\u001b[0m\u001b[0;34m\u001b[0m\u001b[0;34m\u001b[0m\u001b[0m\n\u001b[0m\u001b[1;32m      4\u001b[0m \u001b[0;32mexcept\u001b[0m \u001b[0mValueError\u001b[0m\u001b[0;34m:\u001b[0m\u001b[0;34m\u001b[0m\u001b[0;34m\u001b[0m\u001b[0m\n\u001b[1;32m      5\u001b[0m     \u001b[0mprint\u001b[0m\u001b[0;34m(\u001b[0m\u001b[0;34m'Please enter integer input'\u001b[0m\u001b[0;34m)\u001b[0m\u001b[0;34m\u001b[0m\u001b[0;34m\u001b[0m\u001b[0m\n",
      "\u001b[0;31mNameError\u001b[0m: name 'num1' is not defined"
     ]
    }
   ],
   "source": []
  },
  {
   "cell_type": "code",
   "execution_count": 2,
   "metadata": {},
   "outputs": [
    {
     "name": "stdin",
     "output_type": "stream",
     "text": [
      "Enter your second integer:  4\n"
     ]
    }
   ],
   "source": [
    "\n",
    "try:# account for only entering integers!\n",
    "    num2 = int(input('Enter your second integer: '))\n",
    "except:\n",
    "    print('Please enter an interger')\n",
    "    num2 = int(input('Enter your second integer: '))"
   ]
  },
  {
   "cell_type": "code",
   "execution_count": 3,
   "metadata": {},
   "outputs": [
    {
     "name": "stdout",
     "output_type": "stream",
     "text": [
      "The sum is:  9\n"
     ]
    }
   ],
   "source": [
    "print('The sum is: ', num1 + num2)"
   ]
  },
  {
   "cell_type": "code",
   "execution_count": 6,
   "metadata": {},
   "outputs": [],
   "source": [
    "def factorable(divisors = []):\n",
    "    '''\n",
    "    params: divisors - array of int values which must contain 4 items. The last of these will be the dividend for the other 3\n",
    "    '''\n",
    "    try:\n",
    "#         print(type(divisors) == list)\n",
    "#         print(len(divisors) ==4)\n",
    "#         print((set(type(i) for i in divisors)))\n",
    "#         print((set(type(i) for i in divisors) == ({int})))\n",
    "\n",
    "        # Check to make sure input is a list, it is of the proper length, and it is made up of only integers\n",
    "        if ((type(divisors) == list) & (len(divisors) ==4) & (set(type(i) for i in divisors) == ({int}))):\n",
    "            # Last item is dividend\n",
    "            dividend = divisors[-1]\n",
    "            # Loop through results, dont need to test last to be slightly more performant\n",
    "            for divisor in divisors[0:-1]:\n",
    "                if dividend % divisor != 0:\n",
    "                    return False\n",
    "            return True\n",
    "        print('Check data types and list lengths!')\n",
    "    except Exception as e:\n",
    "        print('Check data types!')\n",
    "        print(e)"
   ]
  },
  {
   "cell_type": "code",
   "execution_count": 3,
   "metadata": {},
   "outputs": [
    {
     "ename": "IndentationError",
     "evalue": "unexpected indent (<ipython-input-3-0e3ff74492d1>, line 11)",
     "output_type": "error",
     "traceback": [
      "\u001b[0;36m  File \u001b[0;32m\"<ipython-input-3-0e3ff74492d1>\"\u001b[0;36m, line \u001b[0;32m11\u001b[0m\n\u001b[0;31m    8 % a == 0 and 8 % b == 0 and 8 % b == 0\u001b[0m\n\u001b[0m    ^\u001b[0m\n\u001b[0;31mIndentationError\u001b[0m\u001b[0;31m:\u001b[0m unexpected indent\n"
     ]
    }
   ],
   "source": [
    "a = 1\n",
    "b = 2\n",
    "c = 4\n",
    "\n",
    "\n",
    "\n",
    "# We are using the IF/ElSE conditional, so we test to see if the first three inputs are a factor of the fourth input,\n",
    "# or if num1, num2 and num3 are factors of num4.\n",
    "# We will generate a statement for each whether they are or not.\n",
    "\n",
    " 8 % a == 0 and 8 % b == 0 and 8 % b == 0\n",
    " "
   ]
  },
  {
   "cell_type": "code",
   "execution_count": 13,
   "metadata": {},
   "outputs": [
    {
     "data": {
      "text/plain": [
       "True"
      ]
     },
     "execution_count": 13,
     "metadata": {},
     "output_type": "execute_result"
    }
   ],
   "source": [
    "# we define the variables\n",
    "a = 1\n",
    "b = 2\n",
    "c = 4\n",
    "d = 8\n",
    "\n",
    "# then we use the operator 'and' to see if the statement is \n",
    "# if true the a,b,c variables are factors of the d variable\n",
    "d % a == 0 and d % b == 0 and d % b == 0\n"
   ]
  },
  {
   "cell_type": "code",
   "execution_count": 22,
   "metadata": {},
   "outputs": [
    {
     "name": "stdin",
     "output_type": "stream",
     "text": [
      "Please enter edge1 length:  4\n",
      "Please enter edge2 length:  -1\n"
     ]
    },
    {
     "name": "stdout",
     "output_type": "stream",
     "text": [
      "Range of length of edge3 is:  6.0 <= edge3 <= 2.0\n"
     ]
    }
   ],
   "source": [
    "\n",
    "#### Take user input of edge 1 \n",
    "edge1_len = input('Please enter edge1 length: ')\n",
    "edge2_len = input('Please enter edge2 length: ')\n",
    "max_len = 0\n",
    "min_len = 0\n",
    "\n",
    "\n",
    "try:\n",
    "    edge1_len = float(edge1_len) # converts edge1 to floats\n",
    "    edge2_len = float(edge2_len) # converts edge2 to floats\n",
    "    min_len = (abs(edge1_len - edge2_len) + 1) # abs() takes the absolute value since the length cannot be negative\n",
    "    max_len = (abs(edge1_len + edge2_len) - 1) \n",
    "    print('Range of length of edge3 is: ', min_len, '<= edge3 <=', max_len)\n",
    "except:\n",
    "    print('Please only enter numeric values!')"
   ]
  },
  {
   "cell_type": "code",
   "execution_count": 17,
   "metadata": {},
   "outputs": [
    {
     "name": "stdin",
     "output_type": "stream",
     "text": [
      "Please enter edge1 length:  5\n",
      "Please enter edge2 length:  5\n"
     ]
    },
    {
     "name": "stdout",
     "output_type": "stream",
     "text": [
      "Please only enter numeric values!\n"
     ]
    }
   ],
   "source": [
    "# Take user input of edge 1\n",
    "edge1_len = float(input('Please enter edge1 length: '))\n",
    "edge2_len = float(input('Please enter edge2 length: '))\n",
    "max_len = 0\n",
    "min_len = 0\n",
    "\n",
    "\n",
    "# complete code below\n",
    "try:\n",
    "    min_len = (abs(edge1_len - egde2_len) + 1) # abs() takes the absolute value since the length cannot be negative\n",
    "    max_len = (abs(edge1_len + egde2_len) - 1)\n",
    "    print('Range of length of edge3 is: ', min_len, '<= edge3 <=', max_len) ####complete your code here)\n",
    "except:\n",
    "    print('Please only enter numeric values!')"
   ]
  },
  {
   "cell_type": "code",
   "execution_count": null,
   "metadata": {},
   "outputs": [],
   "source": [
    "#declaer the variables\n",
    "#need to account for floats\n",
    "# need to accoount for non-numbers\n",
    "height=input(\"what is your height\")\n",
    "base=input(\"what is your base\")\n",
    "try:\n",
    "    height=float(height)\n",
    "    base=float(base)\n",
    "    #the fourmala for the Aera = (heightXbase)/2\n",
    "\n",
    "    area=((height*base)/2)\n",
    "    print(' The Area is',area)\n",
    "except:\n",
    "    print(' Please use numbers!')"
   ]
  },
  {
   "cell_type": "code",
   "execution_count": 25,
   "metadata": {},
   "outputs": [
    {
     "name": "stdin",
     "output_type": "stream",
     "text": [
      "Enter your first integer:  2.3\n",
      "Enter your second integer:  4.0\n"
     ]
    },
    {
     "name": "stdout",
     "output_type": "stream",
     "text": [
      "The sum is:  6.3\n",
      "The difference is: -1.7000000000000002\n"
     ]
    }
   ],
   "source": [
    "num1 = input('Enter your first integer: ')\n",
    "num2 = input('Enter your second integer: ')\n",
    "try:\n",
    "    num1=int(num1)\n",
    "    num2=int(num2)\n",
    "    print('The sum is: ', num1 + num2)\n",
    "    print('The difference is:', num1 - num2)\n",
    "except:print(' Please use whole numbers!')\n",
    "    \n",
    "    \n"
   ]
  },
  {
   "cell_type": "code",
   "execution_count": 1,
   "metadata": {},
   "outputs": [],
   "source": [
    "def print_star():\n",
    "    import random\n",
    "    i1 = random.randint(1,10)\n",
    "    i2 = random.randint(1,10)\n",
    "    i3 = random.randint(1,10)\n",
    "    print(str(i1), ':','#'*i1)\n",
    "    print(str(i2), ':','#'*i2)\n",
    "    print(str(i3), ':','#'*i3)"
   ]
  },
  {
   "cell_type": "code",
   "execution_count": null,
   "metadata": {},
   "outputs": [],
   "source": []
  }
 ],
 "metadata": {
  "kernelspec": {
   "display_name": "Python 3",
   "language": "python",
   "name": "python3"
  },
  "language_info": {
   "codemirror_mode": {
    "name": "ipython",
    "version": 3
   },
   "file_extension": ".py",
   "mimetype": "text/x-python",
   "name": "python",
   "nbconvert_exporter": "python",
   "pygments_lexer": "ipython3",
   "version": "3.6.7"
  }
 },
 "nbformat": 4,
 "nbformat_minor": 2
}
